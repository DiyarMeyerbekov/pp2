{
 "cells": [
  {
   "cell_type": "code",
   "execution_count": 19,
   "metadata": {},
   "outputs": [
    {
     "name": "stdout",
     "output_type": "stream",
     "text": [
      "['a', 'abb', 'ab', 'a']\n"
     ]
    }
   ],
   "source": [
    "#1\n",
    "import re\n",
    "text =\"a abb ab ba\"\n",
    "pattern = r\"ab*\"\n",
    "match = re.findall(pattern, text)\n",
    "print(match)\n"
   ]
  },
  {
   "cell_type": "code",
   "execution_count": 8,
   "metadata": {},
   "outputs": [
    {
     "name": "stdout",
     "output_type": "stream",
     "text": [
      "['abb', 'abbb']\n"
     ]
    }
   ],
   "source": [
    "#2\n",
    "text =\"a abb abbb ba\"\n",
    "pattern = r\"abb+\"\n",
    "match = re.findall(pattern, text)\n",
    "print(match)"
   ]
  },
  {
   "cell_type": "code",
   "execution_count": 14,
   "metadata": {},
   "outputs": [
    {
     "name": "stdout",
     "output_type": "stream",
     "text": [
      "['sas_sas']\n"
     ]
    }
   ],
   "source": [
    "#3\n",
    "text=\"sas_sas\"\n",
    "pattern=r\"\\b[a-z]+_[a-z]+\\b\"\n",
    "match = re.findall(pattern, text)\n",
    "print(match)"
   ]
  },
  {
   "cell_type": "code",
   "execution_count": 20,
   "metadata": {},
   "outputs": [
    {
     "name": "stdout",
     "output_type": "stream",
     "text": [
      "['Ace']\n"
     ]
    }
   ],
   "source": [
    "#4\n",
    "text=\"Ace ace \"\n",
    "pattern=r\"\\b[A-Z][a-z]+\\b\"\n",
    "match = re.findall(pattern, text)\n",
    "print(match)"
   ]
  },
  {
   "cell_type": "code",
   "execution_count": 35,
   "metadata": {},
   "outputs": [
    {
     "name": "stdout",
     "output_type": "stream",
     "text": [
      "['airbnb']\n"
     ]
    }
   ],
   "source": [
    "#5\n",
    "text=\"anibisvv airbnb\"\n",
    "pattern=r\"\\b\\w*a\\w*b\\b\"\n",
    "match=re.findall(pattern,text)\n",
    "print(match)\n"
   ]
  },
  {
   "cell_type": "code",
   "execution_count": 40,
   "metadata": {},
   "outputs": [
    {
     "name": "stdout",
     "output_type": "stream",
     "text": [
      ":it:was:a:::good:d:y\n"
     ]
    }
   ],
   "source": [
    "#6\n",
    "text=\".it was a , good d.y\"\n",
    "pattern=r\"[\\s.,]\"\n",
    "replacement=\":\"\n",
    "new_text = re.sub(pattern, replacement, text)\n",
    "print(new_text)"
   ]
  },
  {
   "cell_type": "code",
   "execution_count": null,
   "metadata": {},
   "outputs": [
    {
     "name": "stdout",
     "output_type": "stream",
     "text": [
      "WowOmg\n"
     ]
    }
   ],
   "source": [
    "#7\n",
    "test_case = \"wow_omg\"\n",
    "test_case = ''.join(word.capitalize() for word in test_case.split('_'))\n",
    "print(test_case)"
   ]
  },
  {
   "cell_type": "code",
   "execution_count": null,
   "metadata": {},
   "outputs": [
    {
     "name": "stdout",
     "output_type": "stream",
     "text": [
      "['Case', 'Sentence']\n"
     ]
    }
   ],
   "source": [
    "#8\n",
    "text=\"Abjm Ds\"\n",
    "pattern = r\"[a-z]\"\n",
    "split_text = re.split(pattern, text)\n",
    "print(split_text)"
   ]
  },
  {
   "cell_type": "code",
   "execution_count": 17,
   "metadata": {},
   "outputs": [
    {
     "name": "stdout",
     "output_type": "stream",
     "text": [
      "How To Do This\n"
     ]
    }
   ],
   "source": [
    "#9\n",
    "import re\n",
    "text=\"HowToDoThis\"\n",
    "pattern=r\"[A-Z][a-z]+|[a-z]+\"\n",
    "match=re.findall(pattern, text)\n",
    "print(' '.join(match))"
   ]
  },
  {
   "cell_type": "code",
   "execution_count": 18,
   "metadata": {},
   "outputs": [
    {
     "name": "stdout",
     "output_type": "stream",
     "text": [
      "same_same_but_different\n"
     ]
    }
   ],
   "source": [
    "#10 camel to snake\n",
    "import re\n",
    "text=\"SameSameButDifferent\"\n",
    "pattern=r\"[A-Z][a-z]+|[a-z]+\"\n",
    "match=re.findall(pattern, text)\n",
    "print('_'.join(match).lower())"
   ]
  }
 ],
 "metadata": {
  "kernelspec": {
   "display_name": "Python 3",
   "language": "python",
   "name": "python3"
  },
  "language_info": {
   "codemirror_mode": {
    "name": "ipython",
    "version": 3
   },
   "file_extension": ".py",
   "mimetype": "text/x-python",
   "name": "python",
   "nbconvert_exporter": "python",
   "pygments_lexer": "ipython3",
   "version": "3.13.1"
  }
 },
 "nbformat": 4,
 "nbformat_minor": 2
}
