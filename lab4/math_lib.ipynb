{
 "cells": [
  {
   "cell_type": "code",
   "execution_count": 12,
   "metadata": {},
   "outputs": [
    {
     "name": "stdout",
     "output_type": "stream",
     "text": [
      "Output radian:  0.2617993877991494\n"
     ]
    }
   ],
   "source": [
    "#1  convert degree to radian\n",
    "import math\n",
    "a=int(input(\"Input degree: \"))\n",
    "a=a*math.pi/180\n",
    "print(\"Output radian: \",a)"
   ]
  },
  {
   "cell_type": "code",
   "execution_count": null,
   "metadata": {},
   "outputs": [
    {
     "name": "stdout",
     "output_type": "stream",
     "text": [
      "Expected Output:  27.5\n"
     ]
    }
   ],
   "source": [
    "#2 area of trapezoid\n",
    "height=int(input(\"Height: \"))\n",
    "a=int(input(\"Base, first value: \"))\n",
    "b=int(input(\"Base, second value: \"))\n",
    "area=(a+b)/2*height\n",
    "print(\"Expected Output: \",area)"
   ]
  },
  {
   "cell_type": "code",
   "execution_count": null,
   "metadata": {},
   "outputs": [
    {
     "name": "stdout",
     "output_type": "stream",
     "text": [
      "The area of the polygon is:  625\n"
     ]
    }
   ],
   "source": [
    "#3 area of nth sides polygon\n",
    "num_of_sides=int(input(\"Input number of sides: \"))\n",
    "len=int(input(\"Input the length of a side: \"))\n",
    "area=(num_of_sides*(len**2))/(4*(math.tan(math.pi/num_of_sides)))\n",
    "print(\"The area of the polygon is: \",int(area))"
   ]
  },
  {
   "cell_type": "code",
   "execution_count": null,
   "metadata": {},
   "outputs": [
    {
     "name": "stdout",
     "output_type": "stream",
     "text": [
      "Expected Output: 30\n"
     ]
    }
   ],
   "source": [
    "#4 area of parallelogram\n",
    "a=int(input(\"Length of base: \"))\n",
    "h=int(input(\"Height of parallelogram: \"))\n",
    "print(\"Expected Output:\",a*h)"
   ]
  }
 ],
 "metadata": {
  "kernelspec": {
   "display_name": "Python 3",
   "language": "python",
   "name": "python3"
  },
  "language_info": {
   "codemirror_mode": {
    "name": "ipython",
    "version": 3
   },
   "file_extension": ".py",
   "mimetype": "text/x-python",
   "name": "python",
   "nbconvert_exporter": "python",
   "pygments_lexer": "ipython3",
   "version": "3.13.1"
  }
 },
 "nbformat": 4,
 "nbformat_minor": 2
}
