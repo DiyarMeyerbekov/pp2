{
 "cells": [
  {
   "cell_type": "code",
   "execution_count": 4,
   "metadata": {},
   "outputs": [
    {
     "name": "stdout",
     "output_type": "stream",
     "text": [
      "2025-02-10 12:43:49.699758\n"
     ]
    }
   ],
   "source": [
    "#1\n",
    "import datetime\n",
    "print( datetime.datetime.now()-datetime.timedelta(5))"
   ]
  },
  {
   "cell_type": "code",
   "execution_count": null,
   "metadata": {},
   "outputs": [
    {
     "name": "stdout",
     "output_type": "stream",
     "text": [
      "2025-02-15 12:48:00.440712\n",
      "2025-02-14 12:48:00.440712\n",
      "2025-02-16 12:48:00.440712\n"
     ]
    }
   ],
   "source": [
    "#2\n",
    "x=datetime.datetime.today()\n",
    "print(x)  #today\n",
    "# yesterday\n",
    "print(x-datetime.timedelta(1))\n",
    "#tomorrow\n",
    "print(x+datetime.timedelta(1))\n"
   ]
  },
  {
   "cell_type": "code",
   "execution_count": null,
   "metadata": {},
   "outputs": [
    {
     "name": "stdout",
     "output_type": "stream",
     "text": [
      "02/15/25\n"
     ]
    }
   ],
   "source": [
    "#3 without seconds\n",
    "import datetime\n",
    "x = datetime.datetime.now()\n",
    "print(x.strftime(\"%x\"))"
   ]
  },
  {
   "cell_type": "code",
   "execution_count": 15,
   "metadata": {},
   "outputs": [
    {
     "name": "stdout",
     "output_type": "stream",
     "text": [
      "599607689 seconds have passed since 2006-02-20 00:00:00\n"
     ]
    }
   ],
   "source": [
    "#4 \n",
    "import datetime\n",
    "date1 = datetime.datetime.now()\n",
    "date2 = datetime.datetime(2006, 2, 20)\n",
    "difference_seconds = (date1 - date2).total_seconds()\n",
    "print(f\"{difference_seconds:.0f} seconds have passed since {date2}\")\n"
   ]
  }
 ],
 "metadata": {
  "kernelspec": {
   "display_name": "Python 3",
   "language": "python",
   "name": "python3"
  },
  "language_info": {
   "codemirror_mode": {
    "name": "ipython",
    "version": 3
   },
   "file_extension": ".py",
   "mimetype": "text/x-python",
   "name": "python",
   "nbconvert_exporter": "python",
   "pygments_lexer": "ipython3",
   "version": "3.13.1"
  }
 },
 "nbformat": 4,
 "nbformat_minor": 2
}
