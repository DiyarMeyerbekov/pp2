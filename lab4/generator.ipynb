{
 "cells": [
  {
   "cell_type": "code",
   "execution_count": null,
   "metadata": {},
   "outputs": [
    {
     "name": "stdout",
     "output_type": "stream",
     "text": [
      "0\n",
      "1\n",
      "4\n",
      "9\n",
      "16\n",
      "25\n",
      "36\n",
      "49\n",
      "64\n",
      "81\n",
      "100\n",
      "121\n"
     ]
    }
   ],
   "source": [
    "#1\n",
    "def gen(n):\n",
    "    for i in range(n):\n",
    "        yield i**2\n",
    "n=int(input())\n",
    "for num in gen(n):\n",
    "    print(num)"
   ]
  },
  {
   "cell_type": "code",
   "execution_count": 7,
   "metadata": {},
   "outputs": [
    {
     "name": "stdout",
     "output_type": "stream",
     "text": [
      "[0, 2, 4]\n"
     ]
    }
   ],
   "source": [
    "#2\n",
    "def even(n):\n",
    "    for i in range(0,n+1,2):\n",
    "        yield i\n",
    "n=int(input())\n",
    "list=[]\n",
    "for i in even(n):\n",
    "    list.append(i) \n",
    "print(list)"
   ]
  },
  {
   "cell_type": "code",
   "execution_count": 3,
   "metadata": {},
   "outputs": [
    {
     "name": "stdout",
     "output_type": "stream",
     "text": [
      "0\n",
      "3\n",
      "4\n"
     ]
    }
   ],
   "source": [
    "#3\n",
    "def divis(n):\n",
    "    for i in range(n):\n",
    "        if(i%3==0 or i%4==0):\n",
    "            yield i\n",
    "n=int(input())\n",
    "for i in divis(n):\n",
    "    print(i)"
   ]
  },
  {
   "cell_type": "code",
   "execution_count": 20,
   "metadata": {},
   "outputs": [
    {
     "name": "stdout",
     "output_type": "stream",
     "text": [
      "1\n",
      "4\n",
      "9\n",
      "16\n",
      "25\n",
      "36\n",
      "49\n",
      "64\n"
     ]
    }
   ],
   "source": [
    "#4\n",
    "def squares(a, b):\n",
    "    for i in range(a,b):\n",
    "        yield i**2\n",
    "a=int(input())\n",
    "b=int(input())\n",
    "for i in squares(a, b):\n",
    "        print(i)"
   ]
  },
  {
   "cell_type": "code",
   "execution_count": 22,
   "metadata": {},
   "outputs": [
    {
     "name": "stdout",
     "output_type": "stream",
     "text": [
      "5\n",
      "4\n",
      "3\n",
      "2\n",
      "1\n",
      "0\n"
     ]
    }
   ],
   "source": [
    "#5\n",
    "def numb(n):\n",
    "    while n>=0:\n",
    "        yield n\n",
    "        n-=1\n",
    "n=int(input())\n",
    "for i in numb(n):\n",
    "    print(i)"
   ]
  }
 ],
 "metadata": {
  "kernelspec": {
   "display_name": "Python 3",
   "language": "python",
   "name": "python3"
  },
  "language_info": {
   "codemirror_mode": {
    "name": "ipython",
    "version": 3
   },
   "file_extension": ".py",
   "mimetype": "text/x-python",
   "name": "python",
   "nbconvert_exporter": "python",
   "pygments_lexer": "ipython3",
   "version": "3.13.1"
  }
 },
 "nbformat": 4,
 "nbformat_minor": 2
}
