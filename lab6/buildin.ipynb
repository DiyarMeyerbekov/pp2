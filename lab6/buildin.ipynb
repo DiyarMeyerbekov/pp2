{
 "cells": [
  {
   "cell_type": "code",
   "execution_count": null,
   "metadata": {},
   "outputs": [
    {
     "name": "stdout",
     "output_type": "stream",
     "text": [
      "120\n"
     ]
    }
   ],
   "source": [
    "#1\n",
    "import math\n",
    "numbers=[1,2,3,4,5]\n",
    "def multiply_nums(numbers):\n",
    "    return math.prod(numbers) \n",
    "result = multiply_nums(numbers)\n",
    "print(result)"
   ]
  },
  {
   "cell_type": "code",
   "execution_count": null,
   "metadata": {},
   "outputs": [
    {
     "name": "stdout",
     "output_type": "stream",
     "text": [
      "The string is: GoNO\n",
      "The count of Uppercase letters: 3\n",
      "The count of Lowercase letters: 1\n"
     ]
    }
   ],
   "source": [
    "#2\n",
    "import string\n",
    "def counting(str):\n",
    "    upper = 0\n",
    "    lower = 0\n",
    "    for letter in str:\n",
    "        if letter.isupper():\n",
    "            upper += 1\n",
    "        elif letter.islower():\n",
    "            lower += 1\n",
    "    print(f\"The string is: {str}\")\n",
    "    print(f\"The count of Uppercase letters: {upper}\")\n",
    "    print(f\"The count of Lowercase letters: {lower}\")\n",
    "\n",
    "\n",
    "str = input(\"Enter the string to count: \")\n",
    "counting(str)\n"
   ]
  },
  {
   "cell_type": "code",
   "execution_count": null,
   "metadata": {},
   "outputs": [
    {
     "name": "stdout",
     "output_type": "stream",
     "text": [
      "YES\n"
     ]
    }
   ],
   "source": [
    "#3\n",
    "def palindrome(s):\n",
    "    return s == s[::-1] \n",
    "string = input(\"Enter a string: \")\n",
    "if palindrome(string):\n",
    "    print(\"YES\")\n",
    "else:\n",
    "    print(\"NO\")"
   ]
  },
  {
   "cell_type": "code",
   "execution_count": 9,
   "metadata": {},
   "outputs": [
    {
     "name": "stdout",
     "output_type": "stream",
     "text": [
      "Square root of 25100 after 2123 miliseconds is 158.42979517754858\n"
     ]
    }
   ],
   "source": [
    "#4\n",
    "import time\n",
    "import math\n",
    "a=int(input())\n",
    "tim=int(input())\n",
    "time.sleep(tim/1000)\n",
    "b=a**0.5\n",
    "print(f\"Square root of {a} after {tim} miliseconds is {b}\")"
   ]
  },
  {
   "cell_type": "code",
   "execution_count": 10,
   "metadata": {},
   "outputs": [
    {
     "name": "stdout",
     "output_type": "stream",
     "text": [
      "All element are true\n"
     ]
    }
   ],
   "source": [
    "#5\n",
    "def check(tuple):\n",
    "    if all(tuple):\n",
    "        print(f\"All element are true\")\n",
    "    else:\n",
    "        print(f\"One or more of the elements  are false\")\n",
    "tuple={1,\"wrd\",True}\n",
    "check(tuple)"
   ]
  }
 ],
 "metadata": {
  "kernelspec": {
   "display_name": "Python 3",
   "language": "python",
   "name": "python3"
  },
  "language_info": {
   "codemirror_mode": {
    "name": "ipython",
    "version": 3
   },
   "file_extension": ".py",
   "mimetype": "text/x-python",
   "name": "python",
   "nbconvert_exporter": "python",
   "pygments_lexer": "ipython3",
   "version": "3.13.1"
  }
 },
 "nbformat": 4,
 "nbformat_minor": 2
}
